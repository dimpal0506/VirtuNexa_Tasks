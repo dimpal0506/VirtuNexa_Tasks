{
  "nbformat": 4,
  "nbformat_minor": 0,
  "metadata": {
    "colab": {
      "provenance": []
    },
    "kernelspec": {
      "name": "python3",
      "display_name": "Python 3"
    },
    "language_info": {
      "name": "python"
    }
  },
  "cells": [
    {
      "cell_type": "code",
      "source": [
        "import sqlite3\n",
        "import pandas as pd\n",
        "import logging\n",
        "\n",
        "# Configure logging\n",
        "logging.basicConfig(filename=\"finance.log\", level=logging.INFO,\n",
        "                    format=\"%(asctime)s - %(levelname)s - %(message)s\")\n",
        "\n",
        "# Database setup\n",
        "def init_db():\n",
        "    conn = sqlite3.connect(\"finance.db\")\n",
        "    cursor = conn.cursor()\n",
        "    cursor.execute('''CREATE TABLE IF NOT EXISTS transactions (\n",
        "                        id INTEGER PRIMARY KEY AUTOINCREMENT,\n",
        "                        type TEXT,\n",
        "                        category TEXT,\n",
        "                        amount REAL,\n",
        "                        date TEXT)''')\n",
        "    conn.commit()\n",
        "    conn.close()\n",
        "\n",
        "# Add transaction\n",
        "def add_transaction():\n",
        "    type_ = input(\"Enter transaction type (Income/Expense): \")\n",
        "    category = input(\"Enter category: \")\n",
        "    amount = input(\"Enter amount: \")\n",
        "    date = input(\"Enter date (YYYY-MM-DD): \")\n",
        "\n",
        "    try:\n",
        "        amount = float(amount)\n",
        "        conn = sqlite3.connect(\"finance.db\")\n",
        "        cursor = conn.cursor()\n",
        "        cursor.execute(\"INSERT INTO transactions (type, category, amount, date) VALUES (?, ?, ?, ?)\",\n",
        "                       (type_, category, amount, date))\n",
        "        conn.commit()\n",
        "        conn.close()\n",
        "        logging.info(f\"Added transaction: {type_}, {category}, {amount}, {date}\")\n",
        "        print(\"Transaction added successfully!\")\n",
        "    except ValueError:\n",
        "        print(\"Invalid amount. Please enter a numeric value.\")\n",
        "    except Exception as e:\n",
        "        logging.error(f\"Error adding transaction: {e}\")\n",
        "        print(\"Failed to add transaction.\")\n",
        "\n",
        "# Generate summary report\n",
        "def generate_report():\n",
        "    conn = sqlite3.connect(\"finance.db\")\n",
        "    df = pd.read_sql_query(\"SELECT * FROM transactions\", conn)\n",
        "    conn.close()\n",
        "    if df.empty:\n",
        "        print(\"No transactions recorded yet.\")\n",
        "    else:\n",
        "        summary = df.groupby(['type', 'category'])['amount'].sum().reset_index()\n",
        "        summary.to_csv(\"finance_report.csv\", index=False)\n",
        "        logging.info(\"Generated financial report.\")\n",
        "        print(\"Report generated successfully! Check finance_report.csv\")\n",
        "        print(summary)\n",
        "\n",
        "# Initialize Database\n",
        "init_db()\n",
        "\n",
        "# Console Interface\n",
        "def main():\n",
        "    while True:\n",
        "        print(\"\\nPersonal Finance Tracker\")\n",
        "        print(\"1. Add Transaction\")\n",
        "        print(\"2. Generate Report\")\n",
        "        print(\"3. Exit\")\n",
        "        choice = input(\"Enter your choice: \")\n",
        "\n",
        "        if choice == \"1\":\n",
        "            add_transaction()\n",
        "        elif choice == \"2\":\n",
        "            generate_report()\n",
        "        elif choice == \"3\":\n",
        "            print(\"Exiting application. Goodbye!\")\n",
        "            break\n",
        "        else:\n",
        "            print(\"Invalid choice. Please try again.\")\n",
        "\n",
        "if __name__ == \"__main__\":\n",
        "    main()\n"
      ],
      "metadata": {
        "colab": {
          "base_uri": "https://localhost:8080/"
        },
        "id": "U-uf2y8ZbbSW",
        "outputId": "b81ced21-6190-4301-c231-52d389ee73b5"
      },
      "execution_count": 7,
      "outputs": [
        {
          "output_type": "stream",
          "name": "stdout",
          "text": [
            "\n",
            "Personal Finance Tracker\n",
            "1. Add Transaction\n",
            "2. Generate Report\n",
            "3. Exit\n",
            "Enter your choice: 1\n",
            "Enter transaction type (Income/Expense): income\n",
            "Enter category: salary\n",
            "Enter amount: 20000\n",
            "Enter date (YYYY-MM-DD): 2024-01-31\n",
            "Transaction added successfully!\n",
            "\n",
            "Personal Finance Tracker\n",
            "1. Add Transaction\n",
            "2. Generate Report\n",
            "3. Exit\n",
            "Enter your choice: 2\n",
            "Report generated successfully! Check finance_report.csv\n",
            "     type category   amount\n",
            "0  income   salary  20000.0\n",
            "\n",
            "Personal Finance Tracker\n",
            "1. Add Transaction\n",
            "2. Generate Report\n",
            "3. Exit\n",
            "Enter your choice: 3\n",
            "Exiting application. Goodbye!\n"
          ]
        }
      ]
    },
    {
      "cell_type": "code",
      "source": [],
      "metadata": {
        "id": "d1KUhYtVcaL-"
      },
      "execution_count": null,
      "outputs": []
    }
  ]
}