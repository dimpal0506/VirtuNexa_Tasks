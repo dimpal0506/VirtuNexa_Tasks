{
  "nbformat": 4,
  "nbformat_minor": 0,
  "metadata": {
    "colab": {
      "provenance": []
    },
    "kernelspec": {
      "name": "python3",
      "display_name": "Python 3"
    },
    "language_info": {
      "name": "python"
    }
  },
  "cells": [
    {
      "cell_type": "code",
      "execution_count": null,
      "metadata": {
        "colab": {
          "base_uri": "https://localhost:8080/"
        },
        "id": "a2Yl9RYin3bf",
        "outputId": "8c748083-9fe9-421b-dbe7-199e554cab96"
      },
      "outputs": [
        {
          "metadata": {
            "tags": null
          },
          "name": "stdout",
          "output_type": "stream",
          "text": [
            "File Sorting Script\n",
            "1. Sort by Extension\n",
            "2. Sort by Name\n",
            "3. Sort by Creation Date\n"
          ]
        }
      ],
      "source": [
        "import os\n",
        "import shutil\n",
        "from datetime import datetime\n",
        "\n",
        "# Sorting files function\n",
        "def sort_files(directory, criteria):\n",
        "    if not os.path.exists(directory):\n",
        "        raise FileNotFoundError(\"The specified directory does not exist.\")\n",
        "\n",
        "    for filename in os.listdir(directory):\n",
        "        file_path = os.path.join(directory, filename)\n",
        "        if os.path.isfile(file_path):  # Ignore directories\n",
        "            if criteria == \"extension\":\n",
        "                folder_name = os.path.splitext(filename)[1][1:] or \"No Extension\"\n",
        "            elif criteria == \"name\":\n",
        "                folder_name = filename[0].upper() if filename[0].isalpha() else \"Miscellaneous\"\n",
        "            elif criteria == \"date\":\n",
        "                creation_time = os.path.getctime(file_path)\n",
        "                folder_name = datetime.fromtimestamp(creation_time).strftime(\"%Y-%m-%d\")\n",
        "            else:\n",
        "                raise ValueError(\"Invalid sorting criteria.\")\n",
        "\n",
        "            # Create target folder and move the file\n",
        "            target_folder = os.path.join(directory, folder_name)\n",
        "            os.makedirs(target_folder, exist_ok=True)\n",
        "            shutil.move(file_path, os.path.join(target_folder, filename))\n",
        "\n",
        "# Console interface\n",
        "def console_interface():\n",
        "    print(\"File Sorting Script\")\n",
        "    print(\"1. Sort by Extension\")\n",
        "    print(\"2. Sort by Name\")\n",
        "    print(\"3. Sort by Creation Date\")\n",
        "    choice = input(\"Enter your choice (1/2/3): \")\n",
        "\n",
        "    # Map user input to sorting criteria\n",
        "    criteria_map = {\"1\": \"extension\", \"2\": \"name\", \"3\": \"date\"}\n",
        "    criteria = criteria_map.get(choice)\n",
        "\n",
        "    if not criteria:\n",
        "        print(\"Invalid choice. Exiting.\")\n",
        "        return\n",
        "\n",
        "    directory = input(\"Enter the directory to sort: \")\n",
        "\n",
        "    try:\n",
        "        sort_files(directory, criteria)\n",
        "        print(f\"Files sorted by {criteria} successfully.\")\n",
        "    except Exception as e:\n",
        "        print(f\"Error: {e}\")\n",
        "\n",
        "# Main function\n",
        "if __name__ == \"__main__\":\n",
        "    console_interface()\n"
      ]
    },
    {
      "cell_type": "code",
      "source": [],
      "metadata": {
        "id": "2OaRngsMn4dG"
      },
      "execution_count": 1,
      "outputs": []
    }
  ]
}